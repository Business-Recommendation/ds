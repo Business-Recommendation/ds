{
 "cells": [
  {
   "cell_type": "code",
   "execution_count": 1,
   "metadata": {},
   "outputs": [],
   "source": [
    "import pandas as pd\n",
    "from collections import Counter\n",
    "import re\n",
    "import spacy\n",
    "from spacy.tokenizer import Tokenizer\n",
    "from nltk.stem import PorterStemmer\n",
    "import scattertext as st\n",
    "from pprint import pprint"
   ]
  },
  {
   "cell_type": "code",
   "execution_count": null,
   "metadata": {},
   "outputs": [],
   "source": []
  },
  {
   "cell_type": "code",
   "execution_count": 2,
   "metadata": {},
   "outputs": [
    {
     "data": {
      "text/html": [
       "<div>\n",
       "<style scoped>\n",
       "    .dataframe tbody tr th:only-of-type {\n",
       "        vertical-align: middle;\n",
       "    }\n",
       "\n",
       "    .dataframe tbody tr th {\n",
       "        vertical-align: top;\n",
       "    }\n",
       "\n",
       "    .dataframe thead th {\n",
       "        text-align: right;\n",
       "    }\n",
       "</style>\n",
       "<table border=\"1\" class=\"dataframe\">\n",
       "  <thead>\n",
       "    <tr style=\"text-align: right;\">\n",
       "      <th></th>\n",
       "      <th>0</th>\n",
       "      <th>1</th>\n",
       "      <th>2</th>\n",
       "    </tr>\n",
       "  </thead>\n",
       "  <tbody>\n",
       "    <tr>\n",
       "      <th>1</th>\n",
       "      <td>\\n        12/6/2018\\n</td>\n",
       "      <td>Easy menu to maneuver and food quality and tas...</td>\n",
       "      <td>5.0 star rating</td>\n",
       "    </tr>\n",
       "    <tr>\n",
       "      <th>4</th>\n",
       "      <td>\\n        2/7/2019\\n</td>\n",
       "      <td>This is a great casual spot if you are wanting...</td>\n",
       "      <td>5.0 star rating</td>\n",
       "    </tr>\n",
       "  </tbody>\n",
       "</table>\n",
       "</div>"
      ],
      "text/plain": [
       "                           0  \\\n",
       "1  \\n        12/6/2018\\n       \n",
       "4   \\n        2/7/2019\\n       \n",
       "\n",
       "                                                   1                2  \n",
       "1  Easy menu to maneuver and food quality and tas...  5.0 star rating  \n",
       "4  This is a great casual spot if you are wanting...  5.0 star rating  "
      ]
     },
     "execution_count": 2,
     "metadata": {},
     "output_type": "execute_result"
    }
   ],
   "source": [
    "def get_termfreq_from_url(yelp_url, from_isbn=False):\n",
    "    '''Takes a url, scrape site for reviews\n",
    "    and calculates the term frequencies \n",
    "    sorts and returns the top 10 as a json object\n",
    "    containing term, highratingscore, poorratingscore.'''\n",
    "\n",
    "    #scrape\n",
    "    \n",
    "    #instantiate empty list of rating scores:\n",
    "    ratings = []\n",
    "    \n",
    "    #iterate over the doc object for each book in the df to get the similarity score and append to list\n",
    "    for doc in df.docs:\n",
    "        sim = eachterm.generateRatingScores(doc)#returns scores\n",
    "        ratings.append(sim)\n",
    "        \n",
    "    #sort the list and grab the top 10:\n",
    "    if from_isbn:\n",
    "        #skip the 0th ranked book which will be the bookused to get the yelp_url of the description:\n",
    "        top10 = pd.Series(sims).sort_values(ascending=False).iloc[1:11]\n",
    "    else:\n",
    "        top10 = pd.Series(sims).sort_values(ascending=False).iloc[:10]\n",
    "\n",
    "    #instantiate empty list to store the python dicts of each book\n",
    "    term = []\n",
    "\n",
    "    #iterate thru the top 10 ranked simlilar books and populate the book list w/ dictionaries for each book\n",
    "\n",
    "    for i in top10.index:\n",
    "        term = {}\n",
    "    #     term['word'] = df.iloc[i]['word']\n",
    "        term['highratingscore'] = df.iloc[i]['highratingscore']\n",
    "        term['poorratingscore'] = str(df.iloc[i]['poorratingscore'])\n",
    "        term.append(term)\n",
    "    return json.dumps(term)"
   ]
  },
  {
   "cell_type": "code",
   "execution_count": null,
   "metadata": {},
   "outputs": [],
   "source": [
    "<input name=\"description\" placeholder=\"Search..\" type=\"text\" value=\"\">"
   ]
  }
 ],
 "metadata": {
  "kernelspec": {
   "display_name": "Python 3",
   "language": "python",
   "name": "python3"
  },
  "language_info": {
   "codemirror_mode": {
    "name": "ipython",
    "version": 3
   },
   "file_extension": ".py",
   "mimetype": "text/x-python",
   "name": "python",
   "nbconvert_exporter": "python",
   "pygments_lexer": "ipython3",
   "version": "3.7.3"
  }
 },
 "nbformat": 4,
 "nbformat_minor": 2
}
